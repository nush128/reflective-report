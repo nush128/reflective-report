{
 "cells": [
  {
   "cell_type": "markdown",
   "id": "0b83296e",
   "metadata": {},
   "source": [
    "## 1. Report on the process of solving problems and learning to use notebooks. "
   ]
  },
  {
   "cell_type": "markdown",
   "id": "c3bf2f35",
   "metadata": {},
   "source": [
    "The use of notebooks is a unique yet helpful tool which Jupyter provides to its users. Notebooks have many functions including allowing us to import other libraries such as those from Pandas and SK Learn which allows us to utilise interesting data modelling tools and enhance the utility of our otherwise fairly arbitrary data. The different functions within Notebook cells such as Code which allows us to run Python code and produce results as well as Markdown which allows us to create headings and add descriptions or provide analysis is incredibly helpful to both the user and reader. We learnt to use notebooks during our practical classes and it has been a very helpful way to be able to learn, track progress and evaluate our learning journey in COMP2200. \n",
    "\n",
    "Furthermore, problem solving in data science involves a 5 step process as we learnt through our lectures and practicals. To begin with we must focus on trying to understand the content of the data which is being provided to you, the overall question being asked and what analysis we want to conduct to help us answer the main question. Next, we want to clean up the data as this way we can remove any outliers which may otherwise skew our overall analysis. The data exploration stage requires us to try different methods and techniques to analyse our data and extract information as we need it from the data provided. The visualisation stage or modelling stage is important to help us to draw conclusions or see what exactly it is we are trying to analyse or possibly even predict and this is where we train or test simulation models. Finally, the data analysis stage relies on us understanding what aspects of the data we have explored and writing down our findings to see whether we have answered the question."
   ]
  },
  {
   "cell_type": "markdown",
   "id": "01cd45ae",
   "metadata": {},
   "source": [
    "## 2. How have you progressed from the start of the unit, what are you interested in doing with this in the future? "
   ]
  },
  {
   "cell_type": "markdown",
   "id": "cad3c852",
   "metadata": {},
   "source": [
    "I had very little to no knowledge of Python as a language and furthermore have never used Jupyter Notebook as well. However, I found them both to be a useful and interesting tool which allowed me to explore and analyse data sets which were provided to me throughout the duration of this unit. I have been able to become familiar with the language, how to navigate Jupyter and how to effectively use the add-ons such as the Pandas library we imported often. I have also learnt how to run the code in a way which allows us to visualise the data in the best possible way which allows for better analysis for me and the marker. This unit has allowed me to see how we can use simple or complex data sets and answer a variety of questions, make predictions and draw conclusions which help form many other discoveries. "
   ]
  },
  {
   "cell_type": "markdown",
   "id": "f31177f8",
   "metadata": {},
   "source": [
    "## 3. Points of Discussion for Portfolio 4 \n",
    "### a. Why did you choose the dataset you have used for your portfolio ?"
   ]
  },
  {
   "cell_type": "markdown",
   "id": "87fce0db",
   "metadata": {},
   "source": [
    "I used the 'Unemployment rates by demographic and race (contains data from 1978 to 2023)' data set which I obtained from Keggle as I felt that it would include a variety of factors which would be interesting to analyse and make predictions from. This data set was of particular interest to me as I felt it was complex and dealt with a contentious area which is often debated in news articles and Human Resources divisions in companies; whether or not there is a race based or gender bias when organisations hire? "
   ]
  },
  {
   "cell_type": "markdown",
   "id": "9fe7f072",
   "metadata": {},
   "source": [
    "### b. How do you identify the questions you want to discuss in your portfolio?"
   ]
  },
  {
   "cell_type": "markdown",
   "id": "6131ce09",
   "metadata": {},
   "source": [
    "I asked questions such as: \n",
    "\n",
    "Do women in America face a higher level of unemployment rates? \n",
    "Does race have a significant bearing on whether or not a person is hired in the USA?\n",
    "Do women of colour face a disproportionately higher rate of unemployment?\n",
    "Does age restrict people's chances of being employed? \n",
    "What is the average age of men that are unemployed versus women?\n",
    "Are older women at higher risk of being unemployed?\n",
    "\n",
    "The reason I asked these questions is because I wanted to understand what the correlation between aspects such a race and unemployment were, gender and unemployment were and whether a combination of these factors causes a positive or detrimental impact on rates of employment. This would help me to build and test predictive models which would allow me to ascertain whether there was any correlation between race or gender and the subsequent rates of employment."
   ]
  }
 ],
 "metadata": {
  "kernelspec": {
   "display_name": "Python 3 (ipykernel)",
   "language": "python",
   "name": "python3"
  },
  "language_info": {
   "codemirror_mode": {
    "name": "ipython",
    "version": 3
   },
   "file_extension": ".py",
   "mimetype": "text/x-python",
   "name": "python",
   "nbconvert_exporter": "python",
   "pygments_lexer": "ipython3",
   "version": "3.11.4"
  }
 },
 "nbformat": 4,
 "nbformat_minor": 5
}
